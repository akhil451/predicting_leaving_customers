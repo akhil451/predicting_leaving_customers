{
 "cells": [
  {
   "cell_type": "markdown",
   "metadata": {},
   "source": [
    "# Bank Customer Churning Model Using Artificial Neural Network "
   ]
  },
  {
   "cell_type": "code",
   "execution_count": 1,
   "metadata": {
    "collapsed": true
   },
   "outputs": [],
   "source": [
    "import pandas as pd\n",
    "import numpy as np \n",
    "import matplotlib.pyplot as plt\n"
   ]
  },
  {
   "cell_type": "code",
   "execution_count": 2,
   "metadata": {},
   "outputs": [
    {
     "data": {
      "text/html": [
       "<div>\n",
       "<style>\n",
       "    .dataframe thead tr:only-child th {\n",
       "        text-align: right;\n",
       "    }\n",
       "\n",
       "    .dataframe thead th {\n",
       "        text-align: left;\n",
       "    }\n",
       "\n",
       "    .dataframe tbody tr th {\n",
       "        vertical-align: top;\n",
       "    }\n",
       "</style>\n",
       "<table border=\"1\" class=\"dataframe\">\n",
       "  <thead>\n",
       "    <tr style=\"text-align: right;\">\n",
       "      <th></th>\n",
       "      <th>RowNumber</th>\n",
       "      <th>CustomerId</th>\n",
       "      <th>Surname</th>\n",
       "      <th>CreditScore</th>\n",
       "      <th>Geography</th>\n",
       "      <th>Gender</th>\n",
       "      <th>Age</th>\n",
       "      <th>Tenure</th>\n",
       "      <th>Balance</th>\n",
       "      <th>NumOfProducts</th>\n",
       "      <th>HasCrCard</th>\n",
       "      <th>IsActiveMember</th>\n",
       "      <th>EstimatedSalary</th>\n",
       "      <th>Exited</th>\n",
       "    </tr>\n",
       "  </thead>\n",
       "  <tbody>\n",
       "    <tr>\n",
       "      <th>0</th>\n",
       "      <td>1</td>\n",
       "      <td>15634602</td>\n",
       "      <td>Hargrave</td>\n",
       "      <td>619</td>\n",
       "      <td>France</td>\n",
       "      <td>Female</td>\n",
       "      <td>42</td>\n",
       "      <td>2</td>\n",
       "      <td>0.00</td>\n",
       "      <td>1</td>\n",
       "      <td>1</td>\n",
       "      <td>1</td>\n",
       "      <td>101348.88</td>\n",
       "      <td>1</td>\n",
       "    </tr>\n",
       "    <tr>\n",
       "      <th>1</th>\n",
       "      <td>2</td>\n",
       "      <td>15647311</td>\n",
       "      <td>Hill</td>\n",
       "      <td>608</td>\n",
       "      <td>Spain</td>\n",
       "      <td>Female</td>\n",
       "      <td>41</td>\n",
       "      <td>1</td>\n",
       "      <td>83807.86</td>\n",
       "      <td>1</td>\n",
       "      <td>0</td>\n",
       "      <td>1</td>\n",
       "      <td>112542.58</td>\n",
       "      <td>0</td>\n",
       "    </tr>\n",
       "    <tr>\n",
       "      <th>2</th>\n",
       "      <td>3</td>\n",
       "      <td>15619304</td>\n",
       "      <td>Onio</td>\n",
       "      <td>502</td>\n",
       "      <td>France</td>\n",
       "      <td>Female</td>\n",
       "      <td>42</td>\n",
       "      <td>8</td>\n",
       "      <td>159660.80</td>\n",
       "      <td>3</td>\n",
       "      <td>1</td>\n",
       "      <td>0</td>\n",
       "      <td>113931.57</td>\n",
       "      <td>1</td>\n",
       "    </tr>\n",
       "    <tr>\n",
       "      <th>3</th>\n",
       "      <td>4</td>\n",
       "      <td>15701354</td>\n",
       "      <td>Boni</td>\n",
       "      <td>699</td>\n",
       "      <td>France</td>\n",
       "      <td>Female</td>\n",
       "      <td>39</td>\n",
       "      <td>1</td>\n",
       "      <td>0.00</td>\n",
       "      <td>2</td>\n",
       "      <td>0</td>\n",
       "      <td>0</td>\n",
       "      <td>93826.63</td>\n",
       "      <td>0</td>\n",
       "    </tr>\n",
       "    <tr>\n",
       "      <th>4</th>\n",
       "      <td>5</td>\n",
       "      <td>15737888</td>\n",
       "      <td>Mitchell</td>\n",
       "      <td>850</td>\n",
       "      <td>Spain</td>\n",
       "      <td>Female</td>\n",
       "      <td>43</td>\n",
       "      <td>2</td>\n",
       "      <td>125510.82</td>\n",
       "      <td>1</td>\n",
       "      <td>1</td>\n",
       "      <td>1</td>\n",
       "      <td>79084.10</td>\n",
       "      <td>0</td>\n",
       "    </tr>\n",
       "  </tbody>\n",
       "</table>\n",
       "</div>"
      ],
      "text/plain": [
       "   RowNumber  CustomerId   Surname  CreditScore Geography  Gender  Age  \\\n",
       "0          1    15634602  Hargrave          619    France  Female   42   \n",
       "1          2    15647311      Hill          608     Spain  Female   41   \n",
       "2          3    15619304      Onio          502    France  Female   42   \n",
       "3          4    15701354      Boni          699    France  Female   39   \n",
       "4          5    15737888  Mitchell          850     Spain  Female   43   \n",
       "\n",
       "   Tenure    Balance  NumOfProducts  HasCrCard  IsActiveMember  \\\n",
       "0       2       0.00              1          1               1   \n",
       "1       1   83807.86              1          0               1   \n",
       "2       8  159660.80              3          1               0   \n",
       "3       1       0.00              2          0               0   \n",
       "4       2  125510.82              1          1               1   \n",
       "\n",
       "   EstimatedSalary  Exited  \n",
       "0        101348.88       1  \n",
       "1        112542.58       0  \n",
       "2        113931.57       1  \n",
       "3         93826.63       0  \n",
       "4         79084.10       0  "
      ]
     },
     "execution_count": 2,
     "metadata": {},
     "output_type": "execute_result"
    }
   ],
   "source": [
    "df=pd.read_csv('Churn_Modelling.csv')\n",
    "df.head()"
   ]
  },
  {
   "cell_type": "code",
   "execution_count": 3,
   "metadata": {
    "collapsed": true
   },
   "outputs": [],
   "source": [
    "# do EDA visualisations \n",
    "\n"
   ]
  },
  {
   "cell_type": "code",
   "execution_count": 4,
   "metadata": {
    "collapsed": true
   },
   "outputs": [],
   "source": [
    "X = df.iloc[:, 3:13].values#independent\n",
    "y = df.iloc[:, -1].values#dependent"
   ]
  },
  {
   "cell_type": "code",
   "execution_count": 5,
   "metadata": {},
   "outputs": [
    {
     "name": "stdout",
     "output_type": "stream",
     "text": [
      "     0       1       2   3  4        5  6  7  8        9\n",
      "0  619  France  Female  42  2        0  1  1  1   101349\n",
      "1  608   Spain  Female  41  1  83807.9  1  0  1   112543\n",
      "2  502  France  Female  42  8   159661  3  1  0   113932\n",
      "3  699  France  Female  39  1        0  2  0  0  93826.6\n",
      "4  850   Spain  Female  43  2   125511  1  1  1  79084.1\n"
     ]
    }
   ],
   "source": [
    "print(pd.DataFrame(X[0:5,:]).head())"
   ]
  },
  {
   "cell_type": "code",
   "execution_count": 6,
   "metadata": {},
   "outputs": [
    {
     "name": "stdout",
     "output_type": "stream",
     "text": [
      "[1 0 1 0 0]\n"
     ]
    }
   ],
   "source": [
    "print(y[0:5])"
   ]
  },
  {
   "cell_type": "code",
   "execution_count": 7,
   "metadata": {
    "collapsed": true
   },
   "outputs": [],
   "source": [
    "from sklearn.preprocessing import LabelEncoder,OneHotEncoder\n",
    "le_country=LabelEncoder()\n",
    "le_gender=LabelEncoder()\n",
    "X[:,1]=le_country.fit_transform(X[:,1])\n",
    "X[:,2]=le_gender.fit_transform(X[:,2])\n",
    "ohe=OneHotEncoder(categorical_features=[1])\n",
    "X=ohe.fit_transform(X).toarray()\n",
    "X=X[:,1:]"
   ]
  },
  {
   "cell_type": "code",
   "execution_count": 8,
   "metadata": {},
   "outputs": [
    {
     "name": "stdout",
     "output_type": "stream",
     "text": [
      "    0    1      2    3     4    5          6    7    8    9          10\n",
      "0  0.0  0.0  619.0  0.0  42.0  2.0       0.00  1.0  1.0  1.0  101348.88\n",
      "1  0.0  1.0  608.0  0.0  41.0  1.0   83807.86  1.0  0.0  1.0  112542.58\n",
      "2  0.0  0.0  502.0  0.0  42.0  8.0  159660.80  3.0  1.0  0.0  113931.57\n",
      "3  0.0  0.0  699.0  0.0  39.0  1.0       0.00  2.0  0.0  0.0   93826.63\n",
      "4  0.0  1.0  850.0  0.0  43.0  2.0  125510.82  1.0  1.0  1.0   79084.10\n"
     ]
    }
   ],
   "source": [
    "print(pd.DataFrame(X).head())"
   ]
  },
  {
   "cell_type": "code",
   "execution_count": 9,
   "metadata": {
    "collapsed": true
   },
   "outputs": [],
   "source": [
    "from sklearn.model_selection import train_test_split\n",
    "x_train ,x_test ,y_train,y_test =train_test_split(X,y,test_size=0.2,random_state=0)"
   ]
  },
  {
   "cell_type": "code",
   "execution_count": 10,
   "metadata": {
    "collapsed": true
   },
   "outputs": [],
   "source": [
    "from sklearn.preprocessing import StandardScaler\n",
    "scx=StandardScaler()\n",
    "x_train=scx.fit_transform(x_train)\n",
    "x_test=scx.fit_transform(x_test)"
   ]
  },
  {
   "cell_type": "code",
   "execution_count": 11,
   "metadata": {},
   "outputs": [
    {
     "name": "stdout",
     "output_type": "stream",
     "text": [
      "            0         1         2         3         4         5         6   \\\n",
      "7995  1.754865 -0.573694 -0.582970 -1.091687 -0.656016 -0.339364  0.703104   \n",
      "7996 -0.569844  1.743090  1.478815 -1.091687 -1.613058 -0.339364  0.613060   \n",
      "7997 -0.569844 -0.573694  0.901515  0.916013 -0.368904  0.006661  1.361474   \n",
      "7998 -0.569844  1.743090 -0.624205 -1.091687 -0.081791  1.390762 -1.215717   \n",
      "7999  1.754865 -0.573694 -0.284011 -1.091687  0.875251 -1.377440  0.511364   \n",
      "\n",
      "            7         8         9         10  \n",
      "7995  0.809503  0.642595  0.968738  1.091330  \n",
      "7996 -0.921591  0.642595  0.968738  0.131760  \n",
      "7997  0.809503  0.642595 -1.032270  1.412320  \n",
      "7998  0.809503  0.642595  0.968738  0.844321  \n",
      "7999 -0.921591  0.642595 -1.032270  0.324725  \n"
     ]
    }
   ],
   "source": [
    "print(pd.DataFrame(x_train).tail())"
   ]
  },
  {
   "cell_type": "code",
   "execution_count": 12,
   "metadata": {},
   "outputs": [
    {
     "name": "stderr",
     "output_type": "stream",
     "text": [
      "Using TensorFlow backend.\n"
     ]
    }
   ],
   "source": [
    "# ANN Libraries \n",
    "import keras\n",
    "from keras.models import Sequential\n",
    "from keras.layers import Dense \n",
    "from keras.layers import Dropout\n"
   ]
  },
  {
   "cell_type": "code",
   "execution_count": 13,
   "metadata": {
    "collapsed": true
   },
   "outputs": [],
   "source": [
    "classifier=Sequential()\n"
   ]
  },
  {
   "cell_type": "code",
   "execution_count": 14,
   "metadata": {},
   "outputs": [],
   "source": [
    "classifier.add(Dense(6,activation='relu',kernel_initializer=\"uniform\",input_dim=11))\n",
    "classifier.add(Dropout(0.1))"
   ]
  },
  {
   "cell_type": "code",
   "execution_count": 15,
   "metadata": {},
   "outputs": [],
   "source": [
    "classifier.add((Dense(6,activation='relu',kernel_initializer=\"uniform\")))\n",
    "classifier.add(Dropout(0.1))"
   ]
  },
  {
   "cell_type": "code",
   "execution_count": 16,
   "metadata": {},
   "outputs": [],
   "source": [
    "classifier.add(Dense(1,activation='sigmoid',kernel_initializer=\"uniform\"))"
   ]
  },
  {
   "cell_type": "code",
   "execution_count": 17,
   "metadata": {
    "collapsed": true
   },
   "outputs": [],
   "source": [
    "classifier.compile(optimizer='adam',loss='binary_crossentropy',metrics=['accuracy'])"
   ]
  },
  {
   "cell_type": "code",
   "execution_count": 18,
   "metadata": {
    "scrolled": true
   },
   "outputs": [
    {
     "name": "stderr",
     "output_type": "stream",
     "text": [
      "/home/akhil/anaconda3/envs/tensorflow/lib/python3.5/site-packages/keras/models.py:844: UserWarning: The `nb_epoch` argument in `fit` has been renamed `epochs`.\n",
      "  warnings.warn('The `nb_epoch` argument in `fit` '\n"
     ]
    },
    {
     "name": "stdout",
     "output_type": "stream",
     "text": [
      "Epoch 1/100\n",
      "8000/8000 [==============================] - 2s - loss: 0.4843 - acc: 0.7961     \n",
      "Epoch 2/100\n",
      "8000/8000 [==============================] - 1s - loss: 0.4340 - acc: 0.7960     \n",
      "Epoch 3/100\n",
      "8000/8000 [==============================] - 1s - loss: 0.4281 - acc: 0.7960     \n",
      "Epoch 4/100\n",
      "8000/8000 [==============================] - 1s - loss: 0.4239 - acc: 0.7960     \n",
      "Epoch 5/100\n",
      "8000/8000 [==============================] - 1s - loss: 0.4280 - acc: 0.8070     \n",
      "Epoch 6/100\n",
      "8000/8000 [==============================] - 1s - loss: 0.4242 - acc: 0.8166     \n",
      "Epoch 7/100\n",
      "8000/8000 [==============================] - 1s - loss: 0.4254 - acc: 0.8220     \n",
      "Epoch 8/100\n",
      "8000/8000 [==============================] - 1s - loss: 0.4240 - acc: 0.8240     \n",
      "Epoch 9/100\n",
      "8000/8000 [==============================] - 1s - loss: 0.4242 - acc: 0.8252     \n",
      "Epoch 10/100\n",
      "8000/8000 [==============================] - 1s - loss: 0.4240 - acc: 0.8269     \n",
      "Epoch 11/100\n",
      "8000/8000 [==============================] - 2s - loss: 0.4256 - acc: 0.8272     \n",
      "Epoch 12/100\n",
      "8000/8000 [==============================] - 1s - loss: 0.4250 - acc: 0.8264     \n",
      "Epoch 13/100\n",
      "8000/8000 [==============================] - 1s - loss: 0.4235 - acc: 0.8291     \n",
      "Epoch 14/100\n",
      "8000/8000 [==============================] - 2s - loss: 0.4234 - acc: 0.8261     \n",
      "Epoch 15/100\n",
      "8000/8000 [==============================] - 1s - loss: 0.4229 - acc: 0.8270     \n",
      "Epoch 16/100\n",
      "8000/8000 [==============================] - 1s - loss: 0.4255 - acc: 0.8296     \n",
      "Epoch 17/100\n",
      "8000/8000 [==============================] - 2s - loss: 0.4249 - acc: 0.8266     \n",
      "Epoch 18/100\n",
      "8000/8000 [==============================] - 1s - loss: 0.4212 - acc: 0.8289     \n",
      "Epoch 19/100\n",
      "8000/8000 [==============================] - 2s - loss: 0.4243 - acc: 0.8297     \n",
      "Epoch 20/100\n",
      "8000/8000 [==============================] - 1s - loss: 0.4227 - acc: 0.8269     \n",
      "Epoch 21/100\n",
      "8000/8000 [==============================] - 1s - loss: 0.4213 - acc: 0.8292     \n",
      "Epoch 22/100\n",
      "8000/8000 [==============================] - 1s - loss: 0.4209 - acc: 0.8291     \n",
      "Epoch 23/100\n",
      "8000/8000 [==============================] - 2s - loss: 0.4206 - acc: 0.8301     \n",
      "Epoch 24/100\n",
      "8000/8000 [==============================] - 1s - loss: 0.4183 - acc: 0.8297     \n",
      "Epoch 25/100\n",
      "8000/8000 [==============================] - 1s - loss: 0.4205 - acc: 0.8306     \n",
      "Epoch 26/100\n",
      "8000/8000 [==============================] - 1s - loss: 0.4195 - acc: 0.8310     \n",
      "Epoch 27/100\n",
      "8000/8000 [==============================] - 1s - loss: 0.4216 - acc: 0.8297     \n",
      "Epoch 28/100\n",
      "8000/8000 [==============================] - 1s - loss: 0.4229 - acc: 0.8281     \n",
      "Epoch 29/100\n",
      "8000/8000 [==============================] - 2s - loss: 0.4198 - acc: 0.8307     \n",
      "Epoch 30/100\n",
      "8000/8000 [==============================] - 2s - loss: 0.4191 - acc: 0.8312     \n",
      "Epoch 31/100\n",
      "8000/8000 [==============================] - 1s - loss: 0.4236 - acc: 0.8295     \n",
      "Epoch 32/100\n",
      "8000/8000 [==============================] - 1s - loss: 0.4197 - acc: 0.8306     \n",
      "Epoch 33/100\n",
      "8000/8000 [==============================] - 1s - loss: 0.4191 - acc: 0.8304     \n",
      "Epoch 34/100\n",
      "8000/8000 [==============================] - 1s - loss: 0.4177 - acc: 0.8297     \n",
      "Epoch 35/100\n",
      "8000/8000 [==============================] - 2s - loss: 0.4195 - acc: 0.8314     \n",
      "Epoch 36/100\n",
      "8000/8000 [==============================] - 1s - loss: 0.4197 - acc: 0.8302     \n",
      "Epoch 37/100\n",
      "8000/8000 [==============================] - 1s - loss: 0.4211 - acc: 0.8299     \n",
      "Epoch 38/100\n",
      "8000/8000 [==============================] - 1s - loss: 0.4217 - acc: 0.8299     \n",
      "Epoch 39/100\n",
      "8000/8000 [==============================] - 1s - loss: 0.4228 - acc: 0.8309     \n",
      "Epoch 40/100\n",
      "8000/8000 [==============================] - 1s - loss: 0.4169 - acc: 0.8300     \n",
      "Epoch 41/100\n",
      "8000/8000 [==============================] - 1s - loss: 0.4229 - acc: 0.8286     \n",
      "Epoch 42/100\n",
      "8000/8000 [==============================] - 2s - loss: 0.4237 - acc: 0.8325     \n",
      "Epoch 43/100\n",
      "8000/8000 [==============================] - 1s - loss: 0.4228 - acc: 0.8297     \n",
      "Epoch 44/100\n",
      "8000/8000 [==============================] - 2s - loss: 0.4210 - acc: 0.8306     \n",
      "Epoch 45/100\n",
      "8000/8000 [==============================] - 2s - loss: 0.4230 - acc: 0.8266     \n",
      "Epoch 46/100\n",
      "8000/8000 [==============================] - 1s - loss: 0.4223 - acc: 0.8311     \n",
      "Epoch 47/100\n",
      "8000/8000 [==============================] - 1s - loss: 0.4226 - acc: 0.8292     \n",
      "Epoch 48/100\n",
      "8000/8000 [==============================] - 1s - loss: 0.4212 - acc: 0.8319     \n",
      "Epoch 49/100\n",
      "8000/8000 [==============================] - 1s - loss: 0.4174 - acc: 0.8320     \n",
      "Epoch 50/100\n",
      "8000/8000 [==============================] - 1s - loss: 0.4170 - acc: 0.8305     \n",
      "Epoch 51/100\n",
      "8000/8000 [==============================] - 1s - loss: 0.4216 - acc: 0.8306     \n",
      "Epoch 52/100\n",
      "8000/8000 [==============================] - 1s - loss: 0.4213 - acc: 0.8309     \n",
      "Epoch 53/100\n",
      "8000/8000 [==============================] - 1s - loss: 0.4184 - acc: 0.8309     \n",
      "Epoch 54/100\n",
      "8000/8000 [==============================] - 1s - loss: 0.4183 - acc: 0.8290     \n",
      "Epoch 55/100\n",
      "8000/8000 [==============================] - 1s - loss: 0.4178 - acc: 0.8312     \n",
      "Epoch 56/100\n",
      "8000/8000 [==============================] - 1s - loss: 0.4208 - acc: 0.8327     \n",
      "Epoch 57/100\n",
      "8000/8000 [==============================] - 1s - loss: 0.4179 - acc: 0.8325     \n",
      "Epoch 58/100\n",
      "8000/8000 [==============================] - 1s - loss: 0.4209 - acc: 0.8340     \n",
      "Epoch 59/100\n",
      "8000/8000 [==============================] - 1s - loss: 0.4198 - acc: 0.8340     \n",
      "Epoch 60/100\n",
      "8000/8000 [==============================] - 1s - loss: 0.4201 - acc: 0.8289     \n",
      "Epoch 61/100\n",
      "8000/8000 [==============================] - 1s - loss: 0.4201 - acc: 0.8324     \n",
      "Epoch 62/100\n",
      "8000/8000 [==============================] - 1s - loss: 0.4197 - acc: 0.8314     \n",
      "Epoch 63/100\n",
      "8000/8000 [==============================] - 1s - loss: 0.4182 - acc: 0.8340     \n",
      "Epoch 64/100\n",
      "8000/8000 [==============================] - 1s - loss: 0.4163 - acc: 0.8330     \n",
      "Epoch 65/100\n",
      "8000/8000 [==============================] - 1s - loss: 0.4209 - acc: 0.8315     \n",
      "Epoch 66/100\n",
      "8000/8000 [==============================] - 1s - loss: 0.4199 - acc: 0.8322     \n",
      "Epoch 67/100\n",
      "8000/8000 [==============================] - 1s - loss: 0.4189 - acc: 0.8311     \n",
      "Epoch 68/100\n",
      "8000/8000 [==============================] - 1s - loss: 0.4188 - acc: 0.8312     \n",
      "Epoch 69/100\n",
      "8000/8000 [==============================] - 1s - loss: 0.4197 - acc: 0.8341     \n",
      "Epoch 70/100\n",
      "8000/8000 [==============================] - 1s - loss: 0.4215 - acc: 0.8306     \n",
      "Epoch 71/100\n",
      "8000/8000 [==============================] - 1s - loss: 0.4224 - acc: 0.8339     \n",
      "Epoch 72/100\n",
      "8000/8000 [==============================] - 1s - loss: 0.4171 - acc: 0.8327     \n",
      "Epoch 73/100\n",
      "8000/8000 [==============================] - 1s - loss: 0.4207 - acc: 0.8310     \n",
      "Epoch 74/100\n",
      "8000/8000 [==============================] - 1s - loss: 0.4211 - acc: 0.8329     \n",
      "Epoch 75/100\n",
      "8000/8000 [==============================] - 1s - loss: 0.4193 - acc: 0.8329     \n",
      "Epoch 76/100\n",
      "8000/8000 [==============================] - 1s - loss: 0.4202 - acc: 0.8310     \n",
      "Epoch 77/100\n",
      "8000/8000 [==============================] - 1s - loss: 0.4193 - acc: 0.8349     \n",
      "Epoch 78/100\n",
      "8000/8000 [==============================] - 1s - loss: 0.4192 - acc: 0.8294     \n",
      "Epoch 79/100\n",
      "8000/8000 [==============================] - 1s - loss: 0.4173 - acc: 0.8329     \n",
      "Epoch 80/100\n",
      "8000/8000 [==============================] - 1s - loss: 0.4188 - acc: 0.8320     \n",
      "Epoch 81/100\n",
      "8000/8000 [==============================] - 1s - loss: 0.4191 - acc: 0.8336     \n",
      "Epoch 82/100\n",
      "8000/8000 [==============================] - 1s - loss: 0.4219 - acc: 0.8345     \n",
      "Epoch 83/100\n",
      "8000/8000 [==============================] - 1s - loss: 0.4204 - acc: 0.8314     \n",
      "Epoch 84/100\n",
      "8000/8000 [==============================] - 1s - loss: 0.4218 - acc: 0.8317     \n",
      "Epoch 85/100\n",
      "8000/8000 [==============================] - 1s - loss: 0.4198 - acc: 0.8325     \n",
      "Epoch 86/100\n",
      "8000/8000 [==============================] - 1s - loss: 0.4183 - acc: 0.8325     \n",
      "Epoch 87/100\n"
     ]
    },
    {
     "name": "stdout",
     "output_type": "stream",
     "text": [
      "8000/8000 [==============================] - 1s - loss: 0.4192 - acc: 0.8329     \n",
      "Epoch 88/100\n",
      "8000/8000 [==============================] - 1s - loss: 0.4193 - acc: 0.8302     \n",
      "Epoch 89/100\n",
      "8000/8000 [==============================] - 1s - loss: 0.4194 - acc: 0.8326     \n",
      "Epoch 90/100\n",
      "8000/8000 [==============================] - 1s - loss: 0.4194 - acc: 0.8330     \n",
      "Epoch 91/100\n",
      "8000/8000 [==============================] - 1s - loss: 0.4165 - acc: 0.8327     \n",
      "Epoch 92/100\n",
      "8000/8000 [==============================] - 1s - loss: 0.4200 - acc: 0.8312     \n",
      "Epoch 93/100\n",
      "8000/8000 [==============================] - 1s - loss: 0.4183 - acc: 0.8321     \n",
      "Epoch 94/100\n",
      "8000/8000 [==============================] - 1s - loss: 0.4176 - acc: 0.8327     \n",
      "Epoch 95/100\n",
      "8000/8000 [==============================] - 1s - loss: 0.4178 - acc: 0.8305     \n",
      "Epoch 96/100\n",
      "8000/8000 [==============================] - 1s - loss: 0.4216 - acc: 0.8297     \n",
      "Epoch 97/100\n",
      "8000/8000 [==============================] - 1s - loss: 0.4184 - acc: 0.8322     \n",
      "Epoch 98/100\n",
      "8000/8000 [==============================] - 1s - loss: 0.4194 - acc: 0.8297     \n",
      "Epoch 99/100\n",
      "8000/8000 [==============================] - 1s - loss: 0.4183 - acc: 0.8322     \n",
      "Epoch 100/100\n",
      "8000/8000 [==============================] - 1s - loss: 0.4197 - acc: 0.8330     \n"
     ]
    },
    {
     "data": {
      "text/plain": [
       "<keras.callbacks.History at 0x7f658e470978>"
      ]
     },
     "execution_count": 18,
     "metadata": {},
     "output_type": "execute_result"
    }
   ],
   "source": [
    "classifier.fit(x_train,y_train,batch_size=10,nb_epoch=100)"
   ]
  },
  {
   "cell_type": "code",
   "execution_count": 19,
   "metadata": {
    "collapsed": true
   },
   "outputs": [],
   "source": [
    "y_pred=classifier.predict(x_test)\n",
    "y_pred =(y_pred>0.5)"
   ]
  },
  {
   "cell_type": "code",
   "execution_count": 20,
   "metadata": {},
   "outputs": [
    {
     "name": "stdout",
     "output_type": "stream",
     "text": [
      "[[1560  290]\n",
      " [  35  115]]\n",
      "accuracy: 0.8375\n"
     ]
    }
   ],
   "source": [
    "from sklearn.metrics import confusion_matrix\n",
    "cm=confusion_matrix(y_pred,y_test)\n",
    "print(cm)\n",
    "accuracy=((cm[0,0]+cm[1,1])/2000)\n",
    "print('accuracy:',accuracy)"
   ]
  },
  {
   "cell_type": "code",
   "execution_count": 21,
   "metadata": {},
   "outputs": [
    {
     "name": "stdout",
     "output_type": "stream",
     "text": [
      "[[False]]\n"
     ]
    }
   ],
   "source": [
    "# predicting for 1 customer ...\n",
    "y_pred1=classifier.predict(scx.transform(np.array([[0.0,0,600,1,40,3,60000,2,1,1,50000]])))\n",
    "y_pred1=(y_pred1>0.5)\n",
    "print(y_pred1)"
   ]
  },
  {
   "cell_type": "markdown",
   "metadata": {},
   "source": [
    "## Evaluating and Tuning the Model "
   ]
  },
  {
   "cell_type": "code",
   "execution_count": null,
   "metadata": {
    "collapsed": true
   },
   "outputs": [],
   "source": [
    "from keras.wrappers.scikit_learn import KerasClassifier\n",
    "from sklearn.model_selection import GridSearchCV\n",
    "from keras.models import Sequential\n",
    "from keras.layers import Dense\n"
   ]
  },
  {
   "cell_type": "code",
   "execution_count": null,
   "metadata": {
    "collapsed": true
   },
   "outputs": [],
   "source": [
    "def build_classifier(optimizer):\n",
    "    classifier = Sequential()\n",
    "    classifier.add(Dense(units = 6, kernel_initializer = 'uniform', activation = 'relu', input_dim = 11))\n",
    "    classifier.add(Dense(units = 6, kernel_initializer = 'uniform', activation = 'relu'))\n",
    "    classifier.add(Dense(units = 1, kernel_initializer = 'uniform', activation = 'sigmoid'))\n",
    "    classifier.compile(optimizer = optimizer, loss = 'binary_crossentropy', metrics = ['accuracy'])\n",
    "    return classifier\n",
    "classifier = KerasClassifier(build_fn = build_classifier)\n"
   ]
  },
  {
   "cell_type": "code",
   "execution_count": null,
   "metadata": {
    "collapsed": true
   },
   "outputs": [],
   "source": [
    "parameters={\n",
    "            'batch_size':[25,32],\n",
    "            'nb_epoch':[100,250],\n",
    "            'optimizer':['adam','rmsprop']\n",
    "            }"
   ]
  },
  {
   "cell_type": "code",
   "execution_count": null,
   "metadata": {},
   "outputs": [],
   "source": [
    "gridsearch = GridSearchCV(estimator = classifier,param_grid=parameters,cv=10,scoring='accuracy',n_jobs=-1)\n",
    "gridsearch = gridsearch.fit(x_train , y_train)"
   ]
  },
  {
   "cell_type": "code",
   "execution_count": null,
   "metadata": {
    "collapsed": true
   },
   "outputs": [],
   "source": [
    "best_params=gridsearch.best_params_\n",
    "best_accuracy=gridsearch.best_score_\n",
    "print('best_params',best_params)\n",
    "print('Most accuracy obtained ', best_accuracy)"
   ]
  }
 ],
 "metadata": {
  "kernelspec": {
   "display_name": "Python 3",
   "language": "python",
   "name": "python3"
  },
  "language_info": {
   "codemirror_mode": {
    "name": "ipython",
    "version": 3
   },
   "file_extension": ".py",
   "mimetype": "text/x-python",
   "name": "python",
   "nbconvert_exporter": "python",
   "pygments_lexer": "ipython3",
   "version": "3.5.3"
  }
 },
 "nbformat": 4,
 "nbformat_minor": 2
}
